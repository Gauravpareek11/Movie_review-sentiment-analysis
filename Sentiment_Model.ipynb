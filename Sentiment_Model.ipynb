{
  "nbformat": 4,
  "nbformat_minor": 0,
  "metadata": {
    "colab": {
      "name": "Sentiment_Model.ipynb",
      "provenance": [],
      "collapsed_sections": [],
      "mount_file_id": "19wD_1B5j0b1JL9yjjHoe7F9kVJEXIT4v",
      "authorship_tag": "ABX9TyPfxncEvCyA1CF3Bwzs3Q7f"
    },
    "kernelspec": {
      "name": "python3",
      "display_name": "Python 3"
    },
    "language_info": {
      "name": "python"
    },
    "accelerator": "GPU"
  },
  "cells": [
    {
      "cell_type": "markdown",
      "metadata": {
        "id": "fFrO9d8Tfk7F"
      },
      "source": [
        "**SENTIMENT ANALYSIS ON IMDB DATASET**"
      ]
    },
    {
      "cell_type": "markdown",
      "metadata": {
        "id": "K3aXpvvRkROq"
      },
      "source": [
        "**NAME-GAURAV PRAKASH PAREEK**"
      ]
    },
    {
      "cell_type": "markdown",
      "metadata": {
        "id": "bnaCggLskanr"
      },
      "source": [
        "I Have performed sentiment analysis on IMDB Dataset and used a RNN model with Biderctional LSTM."
      ]
    },
    {
      "cell_type": "code",
      "metadata": {
        "colab": {
          "base_uri": "https://localhost:8080/"
        },
        "id": "HGSt_M0_ffJR",
        "outputId": "7d1d8215-1a72-44d4-8287-917e80202bb2"
      },
      "source": [
        "!wget https://www.dropbox.com/s/pdhwlpi2yeie0ol/movie-reviews-dataset.zip"
      ],
      "execution_count": null,
      "outputs": [
        {
          "output_type": "stream",
          "text": [
            "--2021-08-05 12:54:13--  https://www.dropbox.com/s/pdhwlpi2yeie0ol/movie-reviews-dataset.zip\n",
            "Resolving www.dropbox.com (www.dropbox.com)... 162.125.1.18, 2620:100:6016:18::a27d:112\n",
            "Connecting to www.dropbox.com (www.dropbox.com)|162.125.1.18|:443... connected.\n",
            "HTTP request sent, awaiting response... 301 Moved Permanently\n",
            "Location: /s/raw/pdhwlpi2yeie0ol/movie-reviews-dataset.zip [following]\n",
            "--2021-08-05 12:54:13--  https://www.dropbox.com/s/raw/pdhwlpi2yeie0ol/movie-reviews-dataset.zip\n",
            "Reusing existing connection to www.dropbox.com:443.\n",
            "HTTP request sent, awaiting response... 302 Found\n",
            "Location: https://uc022849ff1e4acb9a12d87f57b3.dl.dropboxusercontent.com/cd/0/inline/BTpIfmDfY6uIrpbiQ0Gc8tggYKE_JgHnD_54Jgisi_UJbb1Q7Clamyc6Fd-sZbrILFIEiNIUxVxwlf9gm5U1EBG5odlP6Qr41RkKw3t2-ZiyF6G1TVkRleGaJFFr1YiLkhOTJhR6bE9IepsdGpD2NT2L/file# [following]\n",
            "--2021-08-05 12:54:13--  https://uc022849ff1e4acb9a12d87f57b3.dl.dropboxusercontent.com/cd/0/inline/BTpIfmDfY6uIrpbiQ0Gc8tggYKE_JgHnD_54Jgisi_UJbb1Q7Clamyc6Fd-sZbrILFIEiNIUxVxwlf9gm5U1EBG5odlP6Qr41RkKw3t2-ZiyF6G1TVkRleGaJFFr1YiLkhOTJhR6bE9IepsdGpD2NT2L/file\n",
            "Resolving uc022849ff1e4acb9a12d87f57b3.dl.dropboxusercontent.com (uc022849ff1e4acb9a12d87f57b3.dl.dropboxusercontent.com)... 162.125.1.15, 2620:100:6016:15::a27d:10f\n",
            "Connecting to uc022849ff1e4acb9a12d87f57b3.dl.dropboxusercontent.com (uc022849ff1e4acb9a12d87f57b3.dl.dropboxusercontent.com)|162.125.1.15|:443... connected.\n",
            "HTTP request sent, awaiting response... 302 Found\n",
            "Location: /cd/0/inline2/BTrtzk9dZh4kPLbLmj_yuLVp8TCcjX-yVn7H_hiRoCuvM15yrOOvSkko1n5nZBpNKqjPIXHo74cXQBfwxlrBWjcJH7qjSeuos2M6cZ6HBG2d8MqoNgX85S0NaU3Tyhq1pq0AJAQAuF7YOk3Y0PsI2rm_x6y8epJ-P5-IvYgKZgrdXn5zfIyQnWrnU3cilO4YOzAVdxHAF0o2KxXFsBHowKcGDIbhj0egeJULW2rNCZRRrjIpEKd4yiJVj0t7bvEP_RYELj7rQj0lAMcysdpfCcgiMVBh4ETLasXsOJKoKviT-UDxaZJeCSIO79KwDsWcCOTdV5H2UrvBveYL_gAJqs2Z9OojA6JXYGmyyHlY-LEzGrY2t0ZOZRnn1LT51ijwyAU/file [following]\n",
            "--2021-08-05 12:54:13--  https://uc022849ff1e4acb9a12d87f57b3.dl.dropboxusercontent.com/cd/0/inline2/BTrtzk9dZh4kPLbLmj_yuLVp8TCcjX-yVn7H_hiRoCuvM15yrOOvSkko1n5nZBpNKqjPIXHo74cXQBfwxlrBWjcJH7qjSeuos2M6cZ6HBG2d8MqoNgX85S0NaU3Tyhq1pq0AJAQAuF7YOk3Y0PsI2rm_x6y8epJ-P5-IvYgKZgrdXn5zfIyQnWrnU3cilO4YOzAVdxHAF0o2KxXFsBHowKcGDIbhj0egeJULW2rNCZRRrjIpEKd4yiJVj0t7bvEP_RYELj7rQj0lAMcysdpfCcgiMVBh4ETLasXsOJKoKviT-UDxaZJeCSIO79KwDsWcCOTdV5H2UrvBveYL_gAJqs2Z9OojA6JXYGmyyHlY-LEzGrY2t0ZOZRnn1LT51ijwyAU/file\n",
            "Reusing existing connection to uc022849ff1e4acb9a12d87f57b3.dl.dropboxusercontent.com:443.\n",
            "HTTP request sent, awaiting response... 200 OK\n",
            "Length: 62951389 (60M) [application/zip]\n",
            "Saving to: ‘movie-reviews-dataset.zip’\n",
            "\n",
            "movie-reviews-datas 100%[===================>]  60.03M  83.0MB/s    in 0.7s    \n",
            "\n",
            "2021-08-05 12:54:14 (83.0 MB/s) - ‘movie-reviews-dataset.zip’ saved [62951389/62951389]\n",
            "\n"
          ],
          "name": "stdout"
        }
      ]
    },
    {
      "cell_type": "code",
      "metadata": {
        "id": "Nt02vjivfrb8"
      },
      "source": [
        "!unzip -q \"/content/movie-reviews-dataset.zip\""
      ],
      "execution_count": null,
      "outputs": []
    },
    {
      "cell_type": "code",
      "metadata": {
        "id": "I9h6KgAjgTMf"
      },
      "source": [
        "from tensorflow.keras.preprocessing import  text_dataset_from_directory #used to load text data as tensorflow object\n",
        "from tensorflow.strings import regex_replace    #fast regex replacement\n",
        "from tensorflow.keras.layers.experimental.preprocessing import TextVectorization #for coverting text to vector\n",
        "from tensorflow.keras.models import Sequential \n",
        "from tensorflow.keras import Input\n",
        "from tensorflow.keras.layers import Dense,RNN,LSTM,SimpleRNNCell,Embedding,Dropout,Bidirectional"
      ],
      "execution_count": null,
      "outputs": []
    },
    {
      "cell_type": "code",
      "metadata": {
        "id": "CYgSReo2hbIn"
      },
      "source": [
        "#takes input directory an return tensorflow data object\n",
        "def prepareData(dir):\n",
        "  data=text_dataset_from_directory(dir)\n",
        "  return data.map(lambda text,label:(regex_replace(text,'<br />',' '),label),)"
      ],
      "execution_count": null,
      "outputs": []
    },
    {
      "cell_type": "code",
      "metadata": {
        "colab": {
          "base_uri": "https://localhost:8080/"
        },
        "id": "FUps0xvGibJr",
        "outputId": "5a767495-52c2-4f69-f667-f95a624790ec"
      },
      "source": [
        "train_data=prepareData('/content/movie-reviews-dataset/train')\n",
        "test_data=prepareData('/content/movie-reviews-dataset/test')\n",
        "\n",
        "for text_batch,label_batch in train_data.take(1):\n",
        "  print(text_batch.numpy()[0])\n",
        "  print(label_batch.numpy()[0])"
      ],
      "execution_count": null,
      "outputs": [
        {
          "output_type": "stream",
          "text": [
            "Found 25000 files belonging to 2 classes.\n",
            "Found 25000 files belonging to 2 classes.\n",
            "b\"Evidently lots of people really like this, but I found it infantilising and reasonably offensive codswallop, saved from oblivion by Jane Russell and a couple of memorable musical numbers, especially the opener (but there's a marked dip in invention later on). I don't get on with Monroe - she's supposed to be playing a dumb blonde who ain't that dumb, but she just comes over as dumb. Russell can't quite convince when she claims never to have been in a gymnasium, but is otherwise rather wonderful. The men are staggeringly uninteresting, as is the plot. By no means atrocious, but so patchy that, if this is a classic, God help us all.\"\n",
            "0\n"
          ],
          "name": "stdout"
        }
      ]
    },
    {
      "cell_type": "code",
      "metadata": {
        "colab": {
          "base_uri": "https://localhost:8080/"
        },
        "id": "i6AQZJwwjZoV",
        "outputId": "4a91efb9-a625-41bf-c2af-f272db918fe5"
      },
      "source": [
        "model=Sequential()\n",
        "model.add(Input(shape=(1,),dtype=\"string\"))"
      ],
      "execution_count": null,
      "outputs": [
        {
          "output_type": "stream",
          "text": [
            "WARNING:tensorflow:Please add `keras.layers.InputLayer` instead of `keras.Input` to Sequential model. `keras.Input` is intended to be used by Functional model.\n"
          ],
          "name": "stdout"
        }
      ]
    },
    {
      "cell_type": "code",
      "metadata": {
        "id": "rFcsu8PckRr4"
      },
      "source": [
        "max_tokens=1000\n",
        "max_len=100\n",
        "vectorize_layer=TextVectorization(max_tokens=max_tokens,\n",
        "                                  output_mode=\"int\",\n",
        "                                  output_sequence_length=max_len\n",
        "                                  )"
      ],
      "execution_count": null,
      "outputs": []
    },
    {
      "cell_type": "code",
      "metadata": {
        "id": "_Ju8nEHxkzZR"
      },
      "source": [
        "train_texts=train_data.map(lambda text,label:text)\n",
        "vectorize_layer.adapt(train_texts)\n",
        "model.add(vectorize_layer)"
      ],
      "execution_count": null,
      "outputs": []
    },
    {
      "cell_type": "code",
      "metadata": {
        "id": "VArDWCcVlOO7"
      },
      "source": [
        "model.add(Embedding(max_tokens + 1, 128)) #convert input  to fixed length\n",
        "model.add(Bidirectional(LSTM(64)))\n",
        "model.add(Dense(64,activation=\"relu\"))\n",
        "model.add(Dense(1,activation=\"sigmoid\"))"
      ],
      "execution_count": null,
      "outputs": []
    },
    {
      "cell_type": "code",
      "metadata": {
        "id": "yLZBgrHJmc_S"
      },
      "source": [
        "model.compile(optimizer=\"adam\",loss=\"binary_crossentropy\",metrics=[\"accuracy\"])"
      ],
      "execution_count": null,
      "outputs": []
    },
    {
      "cell_type": "code",
      "metadata": {
        "colab": {
          "base_uri": "https://localhost:8080/"
        },
        "id": "w8tjI04UpOsR",
        "outputId": "e5334f5d-0c28-4fe7-a8ff-7243eb05490e"
      },
      "source": [
        "model.fit(train_data,epochs=10)"
      ],
      "execution_count": null,
      "outputs": [
        {
          "output_type": "stream",
          "text": [
            "Epoch 1/10\n",
            "782/782 [==============================] - 26s 22ms/step - loss: 0.5092 - accuracy: 0.7408\n",
            "Epoch 2/10\n",
            "782/782 [==============================] - 16s 21ms/step - loss: 0.4236 - accuracy: 0.8039\n",
            "Epoch 3/10\n",
            "782/782 [==============================] - 17s 22ms/step - loss: 0.3908 - accuracy: 0.8220\n",
            "Epoch 4/10\n",
            "782/782 [==============================] - 17s 21ms/step - loss: 0.3598 - accuracy: 0.8403\n",
            "Epoch 5/10\n",
            "782/782 [==============================] - 17s 22ms/step - loss: 0.3309 - accuracy: 0.8537\n",
            "Epoch 6/10\n",
            "782/782 [==============================] - 16s 21ms/step - loss: 0.2940 - accuracy: 0.8732\n",
            "Epoch 7/10\n",
            "782/782 [==============================] - 16s 21ms/step - loss: 0.2702 - accuracy: 0.8838\n",
            "Epoch 8/10\n",
            "782/782 [==============================] - 17s 22ms/step - loss: 0.2386 - accuracy: 0.8974\n",
            "Epoch 9/10\n",
            "782/782 [==============================] - 17s 21ms/step - loss: 0.2092 - accuracy: 0.9096\n",
            "Epoch 10/10\n",
            "782/782 [==============================] - 16s 21ms/step - loss: 0.1946 - accuracy: 0.9138\n"
          ],
          "name": "stdout"
        },
        {
          "output_type": "execute_result",
          "data": {
            "text/plain": [
              "<tensorflow.python.keras.callbacks.History at 0x7f028fef7e10>"
            ]
          },
          "metadata": {
            "tags": []
          },
          "execution_count": 11
        }
      ]
    },
    {
      "cell_type": "code",
      "metadata": {
        "colab": {
          "base_uri": "https://localhost:8080/"
        },
        "id": "vWvTPt2tHgXN",
        "outputId": "ed6c18a0-8783-4f3d-bcb0-316c361cb556"
      },
      "source": [
        "model.save('/content/drive/MyDrive/Colab Notebooks/review',save_format='tf')"
      ],
      "execution_count": null,
      "outputs": [
        {
          "output_type": "stream",
          "text": [
            "WARNING:absl:Found untraced functions such as lstm_cell_1_layer_call_fn, lstm_cell_1_layer_call_and_return_conditional_losses, lstm_cell_2_layer_call_fn, lstm_cell_2_layer_call_and_return_conditional_losses, lstm_cell_1_layer_call_fn while saving (showing 5 of 10). These functions will not be directly callable after loading.\n"
          ],
          "name": "stderr"
        },
        {
          "output_type": "stream",
          "text": [
            "INFO:tensorflow:Assets written to: /content/drive/MyDrive/Colab Notebooks/review/assets\n"
          ],
          "name": "stdout"
        },
        {
          "output_type": "stream",
          "text": [
            "INFO:tensorflow:Assets written to: /content/drive/MyDrive/Colab Notebooks/review/assets\n"
          ],
          "name": "stderr"
        }
      ]
    },
    {
      "cell_type": "code",
      "metadata": {
        "id": "WfbO1fCZaaAK"
      },
      "source": [
        "from keras.models import load_model"
      ],
      "execution_count": null,
      "outputs": []
    },
    {
      "cell_type": "code",
      "metadata": {
        "id": "uRUpDVAeahpX"
      },
      "source": [
        "model=load_model('review')"
      ],
      "execution_count": null,
      "outputs": []
    },
    {
      "cell_type": "code",
      "metadata": {
        "colab": {
          "base_uri": "https://localhost:8080/"
        },
        "id": "QolVgBHLpU-X",
        "outputId": "a691b1a5-c8aa-4e02-d6db-c591fa57fb0a"
      },
      "source": [
        "model.evaluate(test_data)"
      ],
      "execution_count": null,
      "outputs": [
        {
          "output_type": "stream",
          "text": [
            "782/782 [==============================] - 12s 14ms/step - loss: 0.7806 - accuracy: 0.7600\n"
          ],
          "name": "stdout"
        },
        {
          "output_type": "execute_result",
          "data": {
            "text/plain": [
              "[0.7806422114372253, 0.7600399851799011]"
            ]
          },
          "metadata": {
            "tags": []
          },
          "execution_count": 17
        }
      ]
    },
    {
      "cell_type": "code",
      "metadata": {
        "colab": {
          "base_uri": "https://localhost:8080/"
        },
        "id": "hNO3UaqmtnGR",
        "outputId": "707abcbc-6fbb-401d-ea13-4a5389dfda14"
      },
      "source": [
        "text=\"This the worst movie I have ever watched\"\n",
        "model.predict([text])"
      ],
      "execution_count": null,
      "outputs": [
        {
          "output_type": "execute_result",
          "data": {
            "text/plain": [
              "array([[0.00173234]], dtype=float32)"
            ]
          },
          "metadata": {
            "tags": []
          },
          "execution_count": 18
        }
      ]
    },
    {
      "cell_type": "code",
      "metadata": {
        "id": "bXO6tjvYCiiL"
      },
      "source": [
        ""
      ],
      "execution_count": null,
      "outputs": []
    }
  ]
}